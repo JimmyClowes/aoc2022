{
 "cells": [
  {
   "cell_type": "markdown",
   "metadata": {},
   "source": [
    "# Puzzle 1"
   ]
  },
  {
   "cell_type": "code",
   "execution_count": 1,
   "metadata": {},
   "outputs": [],
   "source": [
    "import git\n",
    "git_root = git.Repo(search_parent_directories=True).git.rev_parse(\"--show-toplevel\")"
   ]
  },
  {
   "cell_type": "code",
   "execution_count": 2,
   "metadata": {},
   "outputs": [],
   "source": [
    "with open(os.path.join(git_root, 'data', 'external', 'day14_01.txt')) as f:\n",
    "    lines = [l.strip() for l in f.readlines()]"
   ]
  },
  {
   "cell_type": "code",
   "execution_count": 3,
   "metadata": {},
   "outputs": [],
   "source": [
    "rockpaths = [[[int(j) for j in i.strip().split(',')] for i in l.split(\"->\")] for l in lines]"
   ]
  },
  {
   "cell_type": "code",
   "execution_count": 4,
   "metadata": {},
   "outputs": [],
   "source": [
    "x_locs = [[loc[0] for loc in path] for path in rockpaths]\n",
    "all_xs = [x for sl in x_locs for x in sl]\n",
    "\n",
    "y_locs = [[loc[1] for loc in path] for path in rockpaths]\n",
    "all_ys = [y for sl in y_locs for y in sl]"
   ]
  },
  {
   "cell_type": "code",
   "execution_count": 5,
   "metadata": {},
   "outputs": [],
   "source": [
    "import numpy as np"
   ]
  },
  {
   "cell_type": "code",
   "execution_count": 6,
   "metadata": {},
   "outputs": [],
   "source": [
    "def draw_path(c1, c2):\n",
    "\n",
    "    x1=c1[0]\n",
    "    y1=c1[1]\n",
    "    x2=c2[0]\n",
    "    y2=c2[1]\n",
    "\n",
    "    x_min = min(x1, x2)\n",
    "    x_max = max(x1, x2)\n",
    "    y_min = min(y1, y2)\n",
    "    y_max = max(y1, y2)\n",
    "\n",
    "\n",
    "    if x1 != x2:\n",
    "        cave_array[x_min:x_max+1,y1] = 1\n",
    "    else:\n",
    "        cave_array[x1,y_min:y_max+1] = 1"
   ]
  },
  {
   "cell_type": "code",
   "execution_count": 7,
   "metadata": {},
   "outputs": [],
   "source": [
    "def sand_step(sand_pos,\n",
    "                cave_array):\n",
    "    \n",
    "    sand_x = sand_pos[0]\n",
    "    sand_y = sand_pos[1]\n",
    "\n",
    "    if cave_array[sand_x,sand_y+1] == 0:\n",
    "        return [sand_x,sand_y+1]\n",
    "    elif cave_array[sand_x-1,sand_y+1] == 0:\n",
    "        return [sand_x-1,sand_y+1]\n",
    "    elif cave_array[sand_x+1,sand_y+1] == 0:\n",
    "        return [sand_x+1,sand_y+1]\n",
    "    else:\n",
    "        return sand_pos"
   ]
  },
  {
   "cell_type": "code",
   "execution_count": 8,
   "metadata": {},
   "outputs": [
    {
     "data": {
      "text/plain": [
       "805"
      ]
     },
     "execution_count": 8,
     "metadata": {},
     "output_type": "execute_result"
    }
   ],
   "source": [
    "cave_array = np.zeros((max(all_xs)+2,max(all_ys)+2))\n",
    "\n",
    "for path in rockpaths:\n",
    "    for i in range(len(path)-1):\n",
    "        draw_path(path[i], path[i+1])\n",
    "\n",
    "sand_counter = 0\n",
    "oblivion = 0\n",
    "\n",
    "while oblivion == 0:\n",
    "\n",
    "    sand_pos = [500,0]\n",
    "    next_sand_pos = sand_step(sand_pos,\n",
    "                            cave_array)\n",
    "\n",
    "    while (sand_pos[1] != next_sand_pos[1]):\n",
    "\n",
    "        sand_pos = sand_step(sand_pos,\n",
    "                            cave_array)\n",
    "        \n",
    "        if (sand_pos[1] > max(all_ys)):\n",
    "            oblivion += 1\n",
    "            break\n",
    "            \n",
    "        next_sand_pos = sand_step(sand_pos,\n",
    "                                    cave_array)\n",
    "\n",
    "    if oblivion == 0:\n",
    "        cave_array[sand_pos[0],sand_pos[1]] = 1\n",
    "        sand_counter += 1\n",
    "    \n",
    "sand_counter"
   ]
  },
  {
   "attachments": {},
   "cell_type": "markdown",
   "metadata": {},
   "source": [
    "# Puzzle 2"
   ]
  },
  {
   "cell_type": "code",
   "execution_count": 9,
   "metadata": {},
   "outputs": [
    {
     "data": {
      "text/plain": [
       "25161"
      ]
     },
     "execution_count": 9,
     "metadata": {},
     "output_type": "execute_result"
    }
   ],
   "source": [
    "cave_array = np.zeros((max(all_xs)+1000,max(all_ys)+3))\n",
    "\n",
    "for path in rockpaths:\n",
    "    for i in range(len(path)-1):\n",
    "        draw_path(path[i], path[i+1])\n",
    "\n",
    "sand_counter = 0\n",
    "\n",
    "while cave_array[500,0] == 0:\n",
    "\n",
    "    sand_pos = [500,0]\n",
    "    next_sand_pos = sand_step(sand_pos,\n",
    "                            cave_array)\n",
    "\n",
    "    while (sand_pos[1] != next_sand_pos[1]):\n",
    "\n",
    "        sand_pos = sand_step(sand_pos,\n",
    "                            cave_array)\n",
    "        \n",
    "        if (sand_pos[1] == (max(all_ys)+1)):\n",
    "            break\n",
    "            \n",
    "        next_sand_pos = sand_step(sand_pos,\n",
    "                                    cave_array)\n",
    "\n",
    "    cave_array[sand_pos[0],sand_pos[1]] = 1\n",
    "    sand_counter += 1\n",
    "    \n",
    "sand_counter"
   ]
  }
 ],
 "metadata": {
  "kernelspec": {
   "display_name": "Python 3.8.13 ('.venv-aoc2022': venv)",
   "language": "python",
   "name": "python3"
  },
  "language_info": {
   "codemirror_mode": {
    "name": "ipython",
    "version": 3
   },
   "file_extension": ".py",
   "mimetype": "text/x-python",
   "name": "python",
   "nbconvert_exporter": "python",
   "pygments_lexer": "ipython3",
   "version": "3.8.13"
  },
  "orig_nbformat": 4,
  "vscode": {
   "interpreter": {
    "hash": "136fcda9ac390a272dc9cef68eec8b6f3242d3e75188ce1875548512d05267be"
   }
  }
 },
 "nbformat": 4,
 "nbformat_minor": 2
}
