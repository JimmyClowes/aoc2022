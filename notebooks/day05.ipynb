{
 "cells": [
  {
   "cell_type": "markdown",
   "metadata": {},
   "source": [
    "# Puzzle 1"
   ]
  },
  {
   "cell_type": "code",
   "execution_count": 1,
   "metadata": {},
   "outputs": [],
   "source": [
    "import git\n",
    "git_root = git.Repo(search_parent_directories=True).git.rev_parse(\"--show-toplevel\")"
   ]
  },
  {
   "cell_type": "code",
   "execution_count": 2,
   "metadata": {},
   "outputs": [],
   "source": [
    "with open(os.path.join(git_root, 'data', 'external', 'day05_01.txt')) as f:\n",
    "    text = f.read()"
   ]
  },
  {
   "cell_type": "code",
   "execution_count": 3,
   "metadata": {},
   "outputs": [],
   "source": [
    "import re"
   ]
  },
  {
   "cell_type": "code",
   "execution_count": 4,
   "metadata": {},
   "outputs": [],
   "source": [
    "num_stacks = int(re.findall(\"\\d\", text.split(\"\\n\\n\")[0].split(\"\\n\")[-1])[-1])\n",
    "start_stack_lines = text.split(\"\\n\\n\")[0].split(\"\\n\")[:-1]\n",
    "instruction_lines = text.split(\"\\n\\n\")[1].split(\"\\n\")"
   ]
  },
  {
   "cell_type": "code",
   "execution_count": 5,
   "metadata": {},
   "outputs": [],
   "source": [
    "start_stack_positions = [[int(m.start()/4) for m in re.finditer(\"\\[\", stack_line)] for stack_line in start_stack_lines]\n",
    "start_stack_positions.reverse()"
   ]
  },
  {
   "cell_type": "code",
   "execution_count": 6,
   "metadata": {},
   "outputs": [],
   "source": [
    "start_stack_letters = [[m for m in re.findall(\"\\w\", stack_line)] for stack_line in start_stack_lines]\n",
    "start_stack_letters.reverse()"
   ]
  },
  {
   "cell_type": "code",
   "execution_count": 7,
   "metadata": {},
   "outputs": [],
   "source": [
    "stack_inits = [[]]*9\n",
    "\n",
    "for i, row in enumerate(start_stack_positions):\n",
    "    for j, col in enumerate(row):\n",
    "        stack_inits[col] = stack_inits[col] + [start_stack_letters[i][j]]"
   ]
  },
  {
   "cell_type": "code",
   "execution_count": 8,
   "metadata": {},
   "outputs": [],
   "source": [
    "import numpy as np"
   ]
  },
  {
   "cell_type": "code",
   "execution_count": 9,
   "metadata": {},
   "outputs": [],
   "source": [
    "inst_array = np.array([[e[1], e[3], e[5]] for e in [inst.split(\" \") for inst in instruction_lines]]).astype('int')"
   ]
  },
  {
   "cell_type": "code",
   "execution_count": 10,
   "metadata": {},
   "outputs": [],
   "source": [
    "stacks = stack_inits.copy()\n",
    "\n",
    "for i in range(inst_array.shape[0]):\n",
    "    left_at_origin = stacks[inst_array[i,1]-1][:-inst_array[i,0]:]\n",
    "    transit = stacks[inst_array[i,1]-1][-inst_array[i,0]:]\n",
    "    transit.reverse()\n",
    "    new_destination = stacks[inst_array[i,2]-1] + transit\n",
    "    stacks[inst_array[i,1]-1] = left_at_origin\n",
    "    stacks[inst_array[i,2]-1] = new_destination"
   ]
  },
  {
   "cell_type": "code",
   "execution_count": 11,
   "metadata": {},
   "outputs": [
    {
     "data": {
      "text/plain": [
       "'TGWSMRBPN'"
      ]
     },
     "execution_count": 11,
     "metadata": {},
     "output_type": "execute_result"
    }
   ],
   "source": [
    "\"\".join([s[-1] for s in stacks])"
   ]
  },
  {
   "cell_type": "markdown",
   "metadata": {},
   "source": [
    "# Puzzle 2"
   ]
  },
  {
   "cell_type": "code",
   "execution_count": 12,
   "metadata": {},
   "outputs": [],
   "source": [
    "stacks = stack_inits.copy()\n",
    "\n",
    "for i in range(inst_array.shape[0]):\n",
    "    left_at_origin = stacks[inst_array[i,1]-1][:-inst_array[i,0]:]\n",
    "    transit = stacks[inst_array[i,1]-1][-inst_array[i,0]:]\n",
    "    new_destination = stacks[inst_array[i,2]-1] + transit\n",
    "    stacks[inst_array[i,1]-1] = left_at_origin\n",
    "    stacks[inst_array[i,2]-1] = new_destination"
   ]
  },
  {
   "cell_type": "code",
   "execution_count": 13,
   "metadata": {},
   "outputs": [
    {
     "data": {
      "text/plain": [
       "'TZLTLWRNF'"
      ]
     },
     "execution_count": 13,
     "metadata": {},
     "output_type": "execute_result"
    }
   ],
   "source": [
    "\"\".join([s[-1] for s in stacks])"
   ]
  }
 ],
 "metadata": {
  "kernelspec": {
   "display_name": "Python 3.8.13 ('.venv-aoc2022': venv)",
   "language": "python",
   "name": "python3"
  },
  "language_info": {
   "codemirror_mode": {
    "name": "ipython",
    "version": 3
   },
   "file_extension": ".py",
   "mimetype": "text/x-python",
   "name": "python",
   "nbconvert_exporter": "python",
   "pygments_lexer": "ipython3",
   "version": "3.8.13"
  },
  "orig_nbformat": 4,
  "vscode": {
   "interpreter": {
    "hash": "136fcda9ac390a272dc9cef68eec8b6f3242d3e75188ce1875548512d05267be"
   }
  }
 },
 "nbformat": 4,
 "nbformat_minor": 2
}
