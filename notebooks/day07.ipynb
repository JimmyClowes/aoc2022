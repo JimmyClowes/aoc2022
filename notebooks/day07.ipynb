{
 "cells": [
  {
   "cell_type": "markdown",
   "metadata": {},
   "source": [
    "# Puzzle 1"
   ]
  },
  {
   "cell_type": "code",
   "execution_count": 1,
   "metadata": {},
   "outputs": [],
   "source": [
    "import git\n",
    "git_root = git.Repo(search_parent_directories=True).git.rev_parse(\"--show-toplevel\")"
   ]
  },
  {
   "cell_type": "code",
   "execution_count": 2,
   "metadata": {},
   "outputs": [],
   "source": [
    "with open(os.path.join(git_root, 'data', 'external', 'day07_01.txt')) as f:\n",
    "    lines = [l.strip() for l in f.readlines()]"
   ]
  },
  {
   "cell_type": "code",
   "execution_count": 3,
   "metadata": {},
   "outputs": [],
   "source": [
    "class Dir():\n",
    "\n",
    "    def __init__(self,\n",
    "                 name,\n",
    "                 parent,\n",
    "                 children=None,\n",
    "                 files=None):\n",
    "\n",
    "        self.name = name\n",
    "        self.parent = parent\n",
    "        self.children = children or {}\n",
    "        self.files = files or {}\n",
    "\n",
    "    def size(self):\n",
    "\n",
    "        size = sum([v for v in self.files.values()]) + sum([c.size() for c in self.children.values()])\n",
    "\n",
    "        return size"
   ]
  },
  {
   "cell_type": "code",
   "execution_count": 4,
   "metadata": {},
   "outputs": [],
   "source": [
    "class DirTreeTraverser():\n",
    "\n",
    "    def __init__(self,\n",
    "                 lines):\n",
    "\n",
    "        self.current_dir = None\n",
    "        self.lines = lines\n",
    "        self.dirs = {}\n",
    "    \n",
    "    def parse_line(self,\n",
    "                    l):\n",
    "\n",
    "        if l[0] == '$':\n",
    "            if l[2:4] == 'cd':\n",
    "                if l.split(' ')[-1] == '/':\n",
    "                    try:\n",
    "                        self.current_dir = self.dirs['/']\n",
    "                    except:\n",
    "                        top_dir = Dir(name='/',\n",
    "                                            parent=None)\n",
    "                        self.current_dir = top_dir\n",
    "                        self.dirs.update({self.current_dir.name: self.current_dir})\n",
    "                elif l.split(' ')[-1] == '..':\n",
    "                    self.current_dir = self.current_dir.parent\n",
    "                else:\n",
    "                    self.current_dir = self.dirs[os.path.join(self.current_dir.name, l.split(' ')[-1])]\n",
    "            else:\n",
    "                pass\n",
    "        elif l.split(' ')[0] == 'dir':\n",
    "            try:\n",
    "                self.current_dir.chidlren[l.split(' ')[-1]]\n",
    "            except:\n",
    "                child_dir = Dir(name=os.path.join(self.current_dir.name, l.split(' ')[-1]),\n",
    "                                            parent=self.current_dir)\n",
    "                self.current_dir.children.update({child_dir.name: child_dir})\n",
    "                self.dirs.update({child_dir.name: child_dir})\n",
    "        else:\n",
    "            self.current_dir.files.update({l.split(' ')[1]:\n",
    "                                        int(l.split(' ')[0])\n",
    "                                        })"
   ]
  },
  {
   "cell_type": "code",
   "execution_count": 5,
   "metadata": {},
   "outputs": [
    {
     "data": {
      "text/plain": [
       "1182909"
      ]
     },
     "execution_count": 5,
     "metadata": {},
     "output_type": "execute_result"
    }
   ],
   "source": [
    "dtt = DirTreeTraverser(lines)\n",
    "\n",
    "for l in lines:\n",
    "    dtt.parse_line(l)\n",
    "\n",
    "dir_size_dict = {dir.name: dir.size() for dir in dtt.dirs.values()}\n",
    "\n",
    "sum([s for s in dir_size_dict.values() if s <= 100000])"
   ]
  },
  {
   "cell_type": "markdown",
   "metadata": {},
   "source": [
    "# Puzzle 2"
   ]
  },
  {
   "cell_type": "code",
   "execution_count": 6,
   "metadata": {},
   "outputs": [],
   "source": [
    "space_needed = dir_size_dict['/'] - 40000000 "
   ]
  },
  {
   "cell_type": "code",
   "execution_count": 7,
   "metadata": {},
   "outputs": [
    {
     "data": {
      "text/plain": [
       "2832508"
      ]
     },
     "execution_count": 7,
     "metadata": {},
     "output_type": "execute_result"
    }
   ],
   "source": [
    "min([v for v in dir_size_dict.values() if v > space_needed])"
   ]
  }
 ],
 "metadata": {
  "kernelspec": {
   "display_name": "Python 3.8.13 ('.venv-aoc2022': venv)",
   "language": "python",
   "name": "python3"
  },
  "language_info": {
   "codemirror_mode": {
    "name": "ipython",
    "version": 3
   },
   "file_extension": ".py",
   "mimetype": "text/x-python",
   "name": "python",
   "nbconvert_exporter": "python",
   "pygments_lexer": "ipython3",
   "version": "3.8.13"
  },
  "orig_nbformat": 4,
  "vscode": {
   "interpreter": {
    "hash": "136fcda9ac390a272dc9cef68eec8b6f3242d3e75188ce1875548512d05267be"
   }
  }
 },
 "nbformat": 4,
 "nbformat_minor": 2
}
