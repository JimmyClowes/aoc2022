{
 "cells": [
  {
   "cell_type": "code",
   "execution_count": 1,
   "metadata": {},
   "outputs": [],
   "source": [
    "import git\n",
    "git_root = git.Repo(search_parent_directories=True).git.rev_parse(\"--show-toplevel\")"
   ]
  },
  {
   "cell_type": "code",
   "execution_count": 2,
   "metadata": {},
   "outputs": [],
   "source": [
    "with open(os.path.join(git_root, 'data', 'external', 'day08_01.txt')) as f:\n",
    "    lines = [l.strip() for l in f.readlines()]"
   ]
  },
  {
   "cell_type": "code",
   "execution_count": 3,
   "metadata": {},
   "outputs": [],
   "source": [
    "import numpy as np"
   ]
  },
  {
   "cell_type": "code",
   "execution_count": 4,
   "metadata": {},
   "outputs": [],
   "source": [
    "tree_array = np.array([list(s) for s in lines]).astype('int')"
   ]
  },
  {
   "cell_type": "code",
   "execution_count": 5,
   "metadata": {},
   "outputs": [],
   "source": [
    "def is_visible(tree_loc,\n",
    "                tree_array):\n",
    "    \n",
    "    i = tree_loc[0]\n",
    "    j = tree_loc[1]\n",
    "\n",
    "    if ((i == 0) | \n",
    "        (j == 0) | \n",
    "        (i == tree_array.shape[0]-1) | \n",
    "        (j == tree_array.shape[1]-1)):\n",
    "        return 1\n",
    "    else:\n",
    "        max_left = np.max(tree_array[i,:j])\n",
    "        max_right = np.max(tree_array[i,j+1:])\n",
    "        max_above = np.max(tree_array[:i,j])\n",
    "        max_below = np.max(tree_array[i+1:,j])\n",
    "\n",
    "        return tree_array[i, j] > min([max_above,\n",
    "                                        max_below,\n",
    "                                        max_left,\n",
    "                                        max_right])"
   ]
  },
  {
   "cell_type": "code",
   "execution_count": 6,
   "metadata": {},
   "outputs": [
    {
     "data": {
      "text/plain": [
       "1736"
      ]
     },
     "execution_count": 6,
     "metadata": {},
     "output_type": "execute_result"
    }
   ],
   "source": [
    "visible_tree_array = np.zeros_like(tree_array)\n",
    "\n",
    "for i in range(tree_array.shape[0]):\n",
    "    for j in range(tree_array.shape[1]):\n",
    "        visible_tree_array [i,j] = is_visible((i,j), tree_array)\n",
    "\n",
    "visible_tree_array.sum()"
   ]
  },
  {
   "cell_type": "code",
   "execution_count": 7,
   "metadata": {},
   "outputs": [],
   "source": [
    "def view_distance(height,\n",
    "                    array):\n",
    "                    \n",
    "    try:\n",
    "        view = np.min(np.where(array >= height)) + 1\n",
    "    except:\n",
    "        view = len(array)\n",
    "\n",
    "    return view"
   ]
  },
  {
   "cell_type": "code",
   "execution_count": 8,
   "metadata": {},
   "outputs": [],
   "source": [
    "def scenic_score(tree_loc,\n",
    "                tree_array):\n",
    "\n",
    "    i = tree_loc[0]\n",
    "    j = tree_loc[1]\n",
    "\n",
    "    if ((i == 0) | \n",
    "        (j == 0) | \n",
    "        (i == tree_array.shape[0]-1) | \n",
    "        (j == tree_array.shape[1]-1)):\n",
    "        return 0\n",
    "    else:\n",
    "        tree_height = tree_array[i,j]\n",
    "\n",
    "        view_left = view_distance(tree_height,np.flip(tree_array[i,:j]))\n",
    "        view_right = view_distance(tree_height,tree_array[i,j+1:])\n",
    "        view_above = view_distance(tree_height,np.flip(tree_array[:i,j]))\n",
    "        view_below = view_distance(tree_height,tree_array[i+1:,j])\n",
    "\n",
    "        return view_above * view_below * view_left * view_right"
   ]
  },
  {
   "cell_type": "code",
   "execution_count": 9,
   "metadata": {},
   "outputs": [
    {
     "data": {
      "text/plain": [
       "268800"
      ]
     },
     "execution_count": 9,
     "metadata": {},
     "output_type": "execute_result"
    }
   ],
   "source": [
    "scenic_score_array = np.zeros_like(tree_array)\n",
    "\n",
    "for i in range(tree_array.shape[0]):\n",
    "    for j in range(tree_array.shape[1]):\n",
    "        scenic_score_array[i,j] = scenic_score((i,j), tree_array)\n",
    "\n",
    "scenic_score_array.max()"
   ]
  }
 ],
 "metadata": {
  "kernelspec": {
   "display_name": "Python 3.8.13 ('.venv-aoc2022': venv)",
   "language": "python",
   "name": "python3"
  },
  "language_info": {
   "codemirror_mode": {
    "name": "ipython",
    "version": 3
   },
   "file_extension": ".py",
   "mimetype": "text/x-python",
   "name": "python",
   "nbconvert_exporter": "python",
   "pygments_lexer": "ipython3",
   "version": "3.8.13"
  },
  "orig_nbformat": 4,
  "vscode": {
   "interpreter": {
    "hash": "136fcda9ac390a272dc9cef68eec8b6f3242d3e75188ce1875548512d05267be"
   }
  }
 },
 "nbformat": 4,
 "nbformat_minor": 2
}
