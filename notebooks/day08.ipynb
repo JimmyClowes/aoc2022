{
 "cells": [
  {
   "cell_type": "code",
   "execution_count": 1,
   "metadata": {},
   "outputs": [],
   "source": [
    "import git\n",
    "git_root = git.Repo(search_parent_directories=True).git.rev_parse(\"--show-toplevel\")"
   ]
  },
  {
   "cell_type": "code",
   "execution_count": 2,
   "metadata": {},
   "outputs": [],
   "source": [
    "with open(os.path.join(git_root, 'data', 'external', 'day08_01.txt')) as f:\n",
    "    lines = [l.strip() for l in f.readlines()]"
   ]
  },
  {
   "cell_type": "code",
   "execution_count": 3,
   "metadata": {},
   "outputs": [],
   "source": [
    "import numpy as np"
   ]
  },
  {
   "cell_type": "code",
   "execution_count": 4,
   "metadata": {},
   "outputs": [],
   "source": [
    "tree_array = np.array([list(s) for s in lines]).astype('int')"
   ]
  },
  {
   "cell_type": "code",
   "execution_count": 5,
   "metadata": {},
   "outputs": [],
   "source": [
    "def is_visible(tree_loc,\n",
    "                tree_array):\n",
    "\n",
    "    if ((tree_loc[0] == 0) | \n",
    "        (tree_loc[1] == 0) | \n",
    "        (tree_loc[0] == tree_array.shape[0]-1) | \n",
    "        (tree_loc[1] == tree_array.shape[1]-1)):\n",
    "        return 1\n",
    "    else:\n",
    "        max_above = np.max(tree_array[tree_loc[0],:tree_loc[1]])\n",
    "        max_below = np.max(tree_array[tree_loc[0],tree_loc[1]+1:])\n",
    "        max_left = np.max(tree_array[:tree_loc[0],tree_loc[1]])\n",
    "        max_right = np.max(tree_array[tree_loc[0]+1:,tree_loc[1]])\n",
    "\n",
    "        return tree_array[tree_loc[0], tree_loc[1]] > min([max_above,\n",
    "                                                        max_below,\n",
    "                                                        max_left,\n",
    "                                                        max_right])"
   ]
  },
  {
   "cell_type": "code",
   "execution_count": 6,
   "metadata": {},
   "outputs": [],
   "source": [
    "visible_tree_array = np.zeros_like(tree_array)"
   ]
  },
  {
   "cell_type": "code",
   "execution_count": 7,
   "metadata": {},
   "outputs": [],
   "source": [
    "for i in range(tree_array.shape[0]):\n",
    "    for j in range(tree_array.shape[1]):\n",
    "        visible_tree_array [i,j] = is_visible((i,j), tree_array)"
   ]
  },
  {
   "cell_type": "code",
   "execution_count": 8,
   "metadata": {},
   "outputs": [
    {
     "data": {
      "text/plain": [
       "1736"
      ]
     },
     "execution_count": 8,
     "metadata": {},
     "output_type": "execute_result"
    }
   ],
   "source": [
    "visible_tree_array.sum()"
   ]
  }
 ],
 "metadata": {
  "kernelspec": {
   "display_name": "Python 3.8.13 ('.venv-aoc2022': venv)",
   "language": "python",
   "name": "python3"
  },
  "language_info": {
   "codemirror_mode": {
    "name": "ipython",
    "version": 3
   },
   "file_extension": ".py",
   "mimetype": "text/x-python",
   "name": "python",
   "nbconvert_exporter": "python",
   "pygments_lexer": "ipython3",
   "version": "3.8.13"
  },
  "orig_nbformat": 4,
  "vscode": {
   "interpreter": {
    "hash": "136fcda9ac390a272dc9cef68eec8b6f3242d3e75188ce1875548512d05267be"
   }
  }
 },
 "nbformat": 4,
 "nbformat_minor": 2
}
