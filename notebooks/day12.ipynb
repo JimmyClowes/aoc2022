{
 "cells": [
  {
   "cell_type": "markdown",
   "metadata": {},
   "source": [
    "# Puzzle 1"
   ]
  },
  {
   "cell_type": "code",
   "execution_count": 1,
   "metadata": {},
   "outputs": [],
   "source": [
    "import git\n",
    "git_root = git.Repo(search_parent_directories=True).git.rev_parse(\"--show-toplevel\")"
   ]
  },
  {
   "cell_type": "code",
   "execution_count": 2,
   "metadata": {},
   "outputs": [],
   "source": [
    "with open(os.path.join(git_root, 'data', 'external', 'day12_01.txt')) as f:\n",
    "    lines = [l.strip() for l in f.readlines()]"
   ]
  },
  {
   "cell_type": "code",
   "execution_count": 3,
   "metadata": {},
   "outputs": [],
   "source": [
    "import numpy as np"
   ]
  },
  {
   "cell_type": "code",
   "execution_count": 4,
   "metadata": {},
   "outputs": [],
   "source": [
    "char_array = np.array([list(l) for l in lines])"
   ]
  },
  {
   "cell_type": "code",
   "execution_count": 5,
   "metadata": {},
   "outputs": [],
   "source": [
    "import string"
   ]
  },
  {
   "cell_type": "code",
   "execution_count": 6,
   "metadata": {},
   "outputs": [],
   "source": [
    "character_dict = {c: string.ascii_lowercase.index(c) for c in string.ascii_lowercase}\n",
    "character_dict.update({'S': 0,\n",
    "                        'E': 25})"
   ]
  },
  {
   "cell_type": "code",
   "execution_count": 7,
   "metadata": {},
   "outputs": [],
   "source": [
    "def char_to_alt(char):\n",
    "\n",
    "    return character_dict[char]"
   ]
  },
  {
   "cell_type": "code",
   "execution_count": 8,
   "metadata": {},
   "outputs": [],
   "source": [
    "alt_array = np.vectorize(char_to_alt)(char_array)"
   ]
  },
  {
   "cell_type": "code",
   "execution_count": 9,
   "metadata": {},
   "outputs": [],
   "source": [
    "def tuples_from_condition(cond):\n",
    "\n",
    "    return list(zip(np.where(cond)[0], np.where(cond)[1]))"
   ]
  },
  {
   "cell_type": "code",
   "execution_count": 10,
   "metadata": {},
   "outputs": [],
   "source": [
    "def loc_altitude(t):\n",
    "\n",
    "    return alt_array[t[0],t[1]]"
   ]
  },
  {
   "cell_type": "code",
   "execution_count": 11,
   "metadata": {},
   "outputs": [],
   "source": [
    "def adjacent(t1, t2):\n",
    "\n",
    "    x_offset = abs(t1[0] - t2[0])\n",
    "    y_offset = abs(t1[1] - t2[1])\n",
    "\n",
    "    if list(set([x_offset, y_offset])) == [0,1]:\n",
    "        return True\n",
    "    else:\n",
    "        return False"
   ]
  },
  {
   "cell_type": "code",
   "execution_count": 12,
   "metadata": {},
   "outputs": [],
   "source": [
    "start_loc = tuples_from_condition(char_array=='S')[0]\n",
    "end_loc = tuples_from_condition(char_array=='E')[0]\n",
    "\n",
    "current_steps = 0\n",
    "locs_dict = {start_loc: current_steps}"
   ]
  },
  {
   "cell_type": "code",
   "execution_count": 13,
   "metadata": {},
   "outputs": [],
   "source": [
    "while not (end_loc in locs_dict.keys()):\n",
    "    for t in [t for t, s in locs_dict.items() if s == current_steps]:\n",
    "\n",
    "        alt_locs = tuples_from_condition(alt_array<=(loc_altitude(t)+1))\n",
    "        adj_locs = [loc for loc in alt_locs if adjacent(t,loc)]\n",
    "        adj_locs_new = [loc for loc in adj_locs if not (loc in locs_dict.keys())]\n",
    "        \n",
    "        locs_dict.update({loc: current_steps+1 for loc in adj_locs_new})\n",
    "\n",
    "    current_steps += 1"
   ]
  },
  {
   "cell_type": "code",
   "execution_count": 14,
   "metadata": {},
   "outputs": [
    {
     "data": {
      "text/plain": [
       "481"
      ]
     },
     "execution_count": 14,
     "metadata": {},
     "output_type": "execute_result"
    }
   ],
   "source": [
    "locs_dict[end_loc]"
   ]
  },
  {
   "cell_type": "markdown",
   "metadata": {},
   "source": [
    "# Puzzle 2"
   ]
  },
  {
   "cell_type": "code",
   "execution_count": 15,
   "metadata": {},
   "outputs": [],
   "source": [
    "start_loc = tuples_from_condition(char_array=='S')[0]\n",
    "end_loc = tuples_from_condition(char_array=='E')[0]\n",
    "\n",
    "current_steps = 0\n",
    "back_locs_dict = {end_loc: current_steps}"
   ]
  },
  {
   "cell_type": "code",
   "execution_count": 16,
   "metadata": {},
   "outputs": [],
   "source": [
    "while 0 not in [loc_altitude(loc) for loc in back_locs_dict.keys()]:\n",
    "    for t in [t for t, s in back_locs_dict.items() if s == current_steps]:\n",
    "\n",
    "        alt_locs = tuples_from_condition((alt_array+1)>=(loc_altitude(t)))\n",
    "        adj_locs = [loc for loc in alt_locs if adjacent(t,loc)]\n",
    "        adj_locs_new = [loc for loc in adj_locs if not (loc in back_locs_dict.keys())]\n",
    "        \n",
    "        back_locs_dict.update({loc: current_steps+1 for loc in adj_locs_new})\n",
    "\n",
    "    current_steps += 1"
   ]
  },
  {
   "cell_type": "code",
   "execution_count": 17,
   "metadata": {},
   "outputs": [
    {
     "data": {
      "text/plain": [
       "480"
      ]
     },
     "execution_count": 17,
     "metadata": {},
     "output_type": "execute_result"
    }
   ],
   "source": [
    "max(back_locs_dict.values())"
   ]
  }
 ],
 "metadata": {
  "kernelspec": {
   "display_name": "Python 3.8.13 ('.venv-aoc2022': venv)",
   "language": "python",
   "name": "python3"
  },
  "language_info": {
   "codemirror_mode": {
    "name": "ipython",
    "version": 3
   },
   "file_extension": ".py",
   "mimetype": "text/x-python",
   "name": "python",
   "nbconvert_exporter": "python",
   "pygments_lexer": "ipython3",
   "version": "3.8.13"
  },
  "orig_nbformat": 4,
  "vscode": {
   "interpreter": {
    "hash": "136fcda9ac390a272dc9cef68eec8b6f3242d3e75188ce1875548512d05267be"
   }
  }
 },
 "nbformat": 4,
 "nbformat_minor": 2
}
