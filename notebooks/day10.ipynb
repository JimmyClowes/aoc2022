{
 "cells": [
  {
   "cell_type": "markdown",
   "metadata": {},
   "source": [
    "# Puzzle 1"
   ]
  },
  {
   "cell_type": "code",
   "execution_count": 1,
   "metadata": {},
   "outputs": [],
   "source": [
    "import git\n",
    "git_root = git.Repo(search_parent_directories=True).git.rev_parse(\"--show-toplevel\")"
   ]
  },
  {
   "cell_type": "code",
   "execution_count": 2,
   "metadata": {},
   "outputs": [],
   "source": [
    "with open(os.path.join(git_root, 'data', 'external', 'day10_01.txt')) as f:\n",
    "    lines = [l.strip() for l in f.readlines()]"
   ]
  },
  {
   "cell_type": "code",
   "execution_count": 3,
   "metadata": {},
   "outputs": [],
   "source": [
    "C = 1\n",
    "X = 1\n",
    "S = 0\n",
    "\n",
    "for l in lines:\n",
    "    if l.split(\" \")[0] == 'noop':\n",
    "        if C in [20,60,100,140,180,220]:\n",
    "            S += X*C\n",
    "        C += 1\n",
    "    else:\n",
    "        for i in range(2):\n",
    "            if C in [20,60,100,140,180,220]:\n",
    "                S += X*C\n",
    "            C += 1\n",
    "        X += int(l.split(\" \")[1])"
   ]
  },
  {
   "cell_type": "code",
   "execution_count": 4,
   "metadata": {},
   "outputs": [
    {
     "data": {
      "text/plain": [
       "17840"
      ]
     },
     "execution_count": 4,
     "metadata": {},
     "output_type": "execute_result"
    }
   ],
   "source": [
    "S"
   ]
  },
  {
   "cell_type": "markdown",
   "metadata": {},
   "source": [
    "# Puzzle 2"
   ]
  },
  {
   "cell_type": "code",
   "execution_count": 5,
   "metadata": {},
   "outputs": [],
   "source": [
    "import numpy as np"
   ]
  },
  {
   "cell_type": "code",
   "execution_count": 6,
   "metadata": {},
   "outputs": [],
   "source": [
    "C = 0\n",
    "X = 1\n",
    "pixel_array_1d = np.zeros(240)\n",
    "\n",
    "for l in lines:\n",
    "    if l.split(\" \")[0] == 'noop':\n",
    "        if C % 40 in [X-1, X, X+1]:\n",
    "            pixel_array_1d[C] = 1\n",
    "        C += 1\n",
    "    else:\n",
    "        for i in range(2):\n",
    "            if C % 40 in [X-1, X, X+1]:\n",
    "                pixel_array_1d[C] = 1\n",
    "            C += 1\n",
    "        X += int(l.split(\" \")[1])"
   ]
  },
  {
   "cell_type": "code",
   "execution_count": 7,
   "metadata": {},
   "outputs": [
    {
     "name": "stdout",
     "output_type": "stream",
     "text": [
      "####..##..#.....##..#..#.#....###...##..\n",
      "#....#..#.#....#..#.#..#.#....#..#.#..#.\n",
      "###..#..#.#....#....#..#.#....#..#.#....\n",
      "#....####.#....#.##.#..#.#....###..#.##.\n",
      "#....#..#.#....#..#.#..#.#....#....#..#.\n",
      "####.#..#.####..###..##..####.#.....###.\n"
     ]
    }
   ],
   "source": [
    "print(\"\\n\".join([''.join(x.tolist()) for x in np.array(['.','#'])[pixel_array_1d.astype('int')].reshape(6,40)]))"
   ]
  }
 ],
 "metadata": {
  "kernelspec": {
   "display_name": "Python 3.8.13 ('.venv-aoc2022': venv)",
   "language": "python",
   "name": "python3"
  },
  "language_info": {
   "codemirror_mode": {
    "name": "ipython",
    "version": 3
   },
   "file_extension": ".py",
   "mimetype": "text/x-python",
   "name": "python",
   "nbconvert_exporter": "python",
   "pygments_lexer": "ipython3",
   "version": "3.8.13"
  },
  "orig_nbformat": 4,
  "vscode": {
   "interpreter": {
    "hash": "136fcda9ac390a272dc9cef68eec8b6f3242d3e75188ce1875548512d05267be"
   }
  }
 },
 "nbformat": 4,
 "nbformat_minor": 2
}
