{
 "cells": [
  {
   "cell_type": "markdown",
   "metadata": {},
   "source": [
    "# Puzzle 1"
   ]
  },
  {
   "cell_type": "code",
   "execution_count": 1,
   "metadata": {},
   "outputs": [],
   "source": [
    "import git\n",
    "git_root = git.Repo(search_parent_directories=True).git.rev_parse(\"--show-toplevel\")"
   ]
  },
  {
   "cell_type": "code",
   "execution_count": 2,
   "metadata": {},
   "outputs": [],
   "source": [
    "with open(os.path.join(git_root, 'data', 'external', 'day13_01.txt')) as f:\n",
    "    text = f.read()"
   ]
  },
  {
   "cell_type": "code",
   "execution_count": 3,
   "metadata": {},
   "outputs": [],
   "source": [
    "import json"
   ]
  },
  {
   "cell_type": "code",
   "execution_count": 4,
   "metadata": {},
   "outputs": [],
   "source": [
    "data = [[json.loads(e) for e in pair.split(\"\\n\")] for pair in text.split(\"\\n\\n\")]"
   ]
  },
  {
   "cell_type": "code",
   "execution_count": 5,
   "metadata": {},
   "outputs": [],
   "source": [
    "def compare(e1, e2):\n",
    "\n",
    "    if isinstance(e1, int) & isinstance(e2, int):\n",
    "        if e1 < e2:\n",
    "            return 1\n",
    "        elif e1 > e2:\n",
    "            return -1\n",
    "        else:\n",
    "            return 0\n",
    "\n",
    "    if isinstance(e1, int) & isinstance(e2, list):\n",
    "        return compare([e1], e2)\n",
    "    elif isinstance(e1, list) & isinstance(e2, int):\n",
    "        return compare(e1, [e2])\n",
    "    else:\n",
    "        check = 0\n",
    "        e1_iter = iter(e1)\n",
    "        e2_iter = iter(e2)\n",
    "        while check == 0:\n",
    "            try:\n",
    "                elem_e1 = next(e1_iter)\n",
    "            except:\n",
    "                try:\n",
    "                    elem_e2 = next(e2_iter)\n",
    "                    return 1\n",
    "                except:\n",
    "                    return 0\n",
    "            try:\n",
    "                elem_e2 = next(e2_iter)\n",
    "            except:\n",
    "                return -1\n",
    "            check = compare(elem_e1, elem_e2)\n",
    "        return check"
   ]
  },
  {
   "cell_type": "code",
   "execution_count": 6,
   "metadata": {},
   "outputs": [],
   "source": [
    "import numpy as np"
   ]
  },
  {
   "cell_type": "code",
   "execution_count": 7,
   "metadata": {},
   "outputs": [
    {
     "data": {
      "text/plain": [
       "5882"
      ]
     },
     "execution_count": 7,
     "metadata": {},
     "output_type": "execute_result"
    }
   ],
   "source": [
    "np.sum(np.where(\n",
    "        np.unique(\n",
    "            np.array([compare(data[i][0], data[i][1]) for i in range(len(data))]),\n",
    "            return_inverse=True)[1]\n",
    "        )[0]+1\n",
    ")"
   ]
  },
  {
   "cell_type": "markdown",
   "metadata": {},
   "source": [
    "# Puzzle 2"
   ]
  },
  {
   "cell_type": "code",
   "execution_count": 8,
   "metadata": {},
   "outputs": [],
   "source": [
    "all_packets = [l for sl in data for l in sl]\n",
    "divider_packets = [[[2]],[[6]]]\n",
    "all_packets = all_packets + divider_packets"
   ]
  },
  {
   "cell_type": "code",
   "execution_count": 9,
   "metadata": {},
   "outputs": [],
   "source": [
    "sorted_packets = [all_packets[0]]\n",
    "\n",
    "for i, pack in enumerate(all_packets[1:]):\n",
    "\n",
    "    j=0\n",
    "\n",
    "    while compare(pack, sorted_packets[j]) == -1:\n",
    "\n",
    "        j += 1\n",
    "        if j > len(sorted_packets)-1:\n",
    "            break\n",
    "\n",
    "    sorted_packets.insert(j, pack)"
   ]
  },
  {
   "cell_type": "code",
   "execution_count": 10,
   "metadata": {},
   "outputs": [
    {
     "data": {
      "text/plain": [
       "24948"
      ]
     },
     "execution_count": 10,
     "metadata": {},
     "output_type": "execute_result"
    }
   ],
   "source": [
    "(sorted_packets.index(divider_packets[0])+1)*(sorted_packets.index(divider_packets[1])+1)"
   ]
  }
 ],
 "metadata": {
  "kernelspec": {
   "display_name": "Python 3.8.13 ('.venv-aoc2022': venv)",
   "language": "python",
   "name": "python3"
  },
  "language_info": {
   "codemirror_mode": {
    "name": "ipython",
    "version": 3
   },
   "file_extension": ".py",
   "mimetype": "text/x-python",
   "name": "python",
   "nbconvert_exporter": "python",
   "pygments_lexer": "ipython3",
   "version": "3.8.13"
  },
  "orig_nbformat": 4,
  "vscode": {
   "interpreter": {
    "hash": "136fcda9ac390a272dc9cef68eec8b6f3242d3e75188ce1875548512d05267be"
   }
  }
 },
 "nbformat": 4,
 "nbformat_minor": 2
}
