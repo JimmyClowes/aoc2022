{
 "cells": [
  {
   "cell_type": "code",
   "execution_count": 1,
   "metadata": {},
   "outputs": [],
   "source": [
    "import git\n",
    "git_root = git.Repo(search_parent_directories=True).git.rev_parse(\"--show-toplevel\")"
   ]
  },
  {
   "cell_type": "code",
   "execution_count": 2,
   "metadata": {},
   "outputs": [],
   "source": [
    "with open(os.path.join(git_root, 'data', 'external', 'day13_01.txt')) as f:\n",
    "    text = f.read()"
   ]
  },
  {
   "cell_type": "code",
   "execution_count": 3,
   "metadata": {},
   "outputs": [],
   "source": [
    "import json"
   ]
  },
  {
   "cell_type": "code",
   "execution_count": 4,
   "metadata": {},
   "outputs": [],
   "source": [
    "data = [[json.loads(e) for e in pair.split(\"\\n\")] for pair in text.split(\"\\n\\n\")]"
   ]
  },
  {
   "cell_type": "code",
   "execution_count": 6,
   "metadata": {},
   "outputs": [],
   "source": [
    "def compare(e1, e2):\n",
    "\n",
    "    if isinstance(e1, int) & isinstance(e2, int):\n",
    "        if e1 < e2:\n",
    "            return 1\n",
    "        elif e1 > e2:\n",
    "            return -1\n",
    "        else:\n",
    "            return 0\n",
    "\n",
    "    if isinstance(e1, int) & isinstance(e2, list):\n",
    "        return compare([e1], e2)\n",
    "    elif isinstance(e1, list) & isinstance(e2, int):\n",
    "        return compare(e1, [e2])\n",
    "    else:\n",
    "        check = 0\n",
    "        e1_iter = iter(e1)\n",
    "        e2_iter = iter(e2)\n",
    "        while check == 0:\n",
    "            try:\n",
    "                elem_e1 = next(e1_iter)\n",
    "            except:\n",
    "                try:\n",
    "                    elem_e2 = next(e2_iter)\n",
    "                    return 1\n",
    "                except:\n",
    "                    return 0\n",
    "            try:\n",
    "                elem_e2 = next(e2_iter)\n",
    "            except:\n",
    "                return -1\n",
    "            check = compare(elem_e1, elem_e2)\n",
    "        return check"
   ]
  },
  {
   "cell_type": "code",
   "execution_count": 7,
   "metadata": {},
   "outputs": [],
   "source": [
    "import numpy as np"
   ]
  },
  {
   "cell_type": "code",
   "execution_count": 8,
   "metadata": {},
   "outputs": [
    {
     "data": {
      "text/plain": [
       "5882"
      ]
     },
     "execution_count": 8,
     "metadata": {},
     "output_type": "execute_result"
    }
   ],
   "source": [
    "np.sum(np.where(\n",
    "        np.unique(\n",
    "            np.array([compare(data[i][0], data[i][1]) for i in range(len(data))]),\n",
    "            return_inverse=True)[1]\n",
    "        )[0]+1\n",
    ")"
   ]
  }
 ],
 "metadata": {
  "kernelspec": {
   "display_name": "Python 3.8.13 ('.venv-aoc2022': venv)",
   "language": "python",
   "name": "python3"
  },
  "language_info": {
   "codemirror_mode": {
    "name": "ipython",
    "version": 3
   },
   "file_extension": ".py",
   "mimetype": "text/x-python",
   "name": "python",
   "nbconvert_exporter": "python",
   "pygments_lexer": "ipython3",
   "version": "3.8.13"
  },
  "orig_nbformat": 4,
  "vscode": {
   "interpreter": {
    "hash": "136fcda9ac390a272dc9cef68eec8b6f3242d3e75188ce1875548512d05267be"
   }
  }
 },
 "nbformat": 4,
 "nbformat_minor": 2
}
