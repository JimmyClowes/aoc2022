{
 "cells": [
  {
   "cell_type": "code",
   "execution_count": 1,
   "metadata": {},
   "outputs": [],
   "source": [
    "import git\n",
    "git_root = git.Repo(search_parent_directories=True).git.rev_parse(\"--show-toplevel\")"
   ]
  },
  {
   "cell_type": "code",
   "execution_count": 2,
   "metadata": {},
   "outputs": [],
   "source": [
    "with open(os.path.join(git_root, 'data', 'external', 'day11_01.txt')) as f:\n",
    "    text = f.read()"
   ]
  },
  {
   "cell_type": "code",
   "execution_count": 3,
   "metadata": {},
   "outputs": [],
   "source": [
    "batches = [[l.strip() for l in b.split(\"\\n\")] for b in text.split(\"\\n\\n\")]"
   ]
  },
  {
   "cell_type": "code",
   "execution_count": 4,
   "metadata": {},
   "outputs": [],
   "source": [
    "class Item():\n",
    "\n",
    "    def __init__(self,\n",
    "                 worry):\n",
    "\n",
    "        self.worry = worry"
   ]
  },
  {
   "cell_type": "code",
   "execution_count": 5,
   "metadata": {},
   "outputs": [],
   "source": [
    "class Monkey():\n",
    "\n",
    "    def __init__(self,\n",
    "                 batch):\n",
    "\n",
    "        self.parse_batch(batch)\n",
    "        self.inspection_count = 0\n",
    "    \n",
    "    def parse_batch(self,\n",
    "                    b):\n",
    "\n",
    "        self.ref = int(b[0].split(\" \")[-1][:-1])\n",
    "        self.items = [Item(int(c.replace(\",\",\"\"))) for c in b[1].split(\" \")[2:]]\n",
    "        self.op, self.op_char = b[2].split(\" \")[-2:]\n",
    "        self.div_test = int(b[3].split(\" \")[-1])\n",
    "        self.true_monkey = int(b[4].split(\" \")[-1])\n",
    "        self.false_monkey = int(b[5].split(\" \")[-1])\n",
    "\n",
    "    def inspect(self):\n",
    "\n",
    "        item = self.items[0]\n",
    "\n",
    "        if self.op_char == 'old':\n",
    "            op_int = item.worry\n",
    "        else:\n",
    "            op_int = int(self.op_char)\n",
    "\n",
    "        if self.op == '+':\n",
    "            item.worry = item.worry + op_int\n",
    "        else:\n",
    "            item.worry = item.worry * op_int\n",
    "\n",
    "        self.inspection_count += 1\n",
    "\n",
    "    def bored(self):\n",
    "\n",
    "        item = self.items[0]\n",
    "\n",
    "        item.worry = item.worry // 3\n",
    "\n",
    "    def throw_condition(self):\n",
    "\n",
    "        item = self.items[0]\n",
    "\n",
    "        if item.worry % self.div_test == 0:\n",
    "            return self.true_monkey\n",
    "        else:\n",
    "            return self.false_monkey"
   ]
  },
  {
   "cell_type": "code",
   "execution_count": 6,
   "metadata": {},
   "outputs": [],
   "source": [
    "monkeys = {}\n",
    "\n",
    "for i, b in enumerate(batches):\n",
    "    monkeys[i] = Monkey(b)"
   ]
  },
  {
   "cell_type": "code",
   "execution_count": 7,
   "metadata": {},
   "outputs": [],
   "source": [
    "for i in range(20):\n",
    "    \n",
    "    for m in monkeys.keys():\n",
    "\n",
    "        current_monkey = monkeys[m]\n",
    "\n",
    "        while len(current_monkey.items) > 0:\n",
    "\n",
    "            current_monkey.inspect()\n",
    "            current_monkey.bored()\n",
    "\n",
    "            receiver = monkeys[current_monkey.throw_condition()]\n",
    "            thrown_item = current_monkey.items[0]\n",
    "            receiver.items = receiver.items + [thrown_item]\n",
    "            current_monkey.items = current_monkey.items[1:]"
   ]
  },
  {
   "cell_type": "code",
   "execution_count": 8,
   "metadata": {},
   "outputs": [
    {
     "data": {
      "text/plain": [
       "66124"
      ]
     },
     "execution_count": 8,
     "metadata": {},
     "output_type": "execute_result"
    }
   ],
   "source": [
    "import numpy as np\n",
    "sorted_inps = np.sort(np.array([monkeys[m].inspection_count for m in monkeys.keys()]))\n",
    "sorted_inps[-2] * sorted_inps[-1]"
   ]
  }
 ],
 "metadata": {
  "kernelspec": {
   "display_name": "Python 3.8.13 ('.venv-aoc2022': venv)",
   "language": "python",
   "name": "python3"
  },
  "language_info": {
   "codemirror_mode": {
    "name": "ipython",
    "version": 3
   },
   "file_extension": ".py",
   "mimetype": "text/x-python",
   "name": "python",
   "nbconvert_exporter": "python",
   "pygments_lexer": "ipython3",
   "version": "3.8.13"
  },
  "orig_nbformat": 4,
  "vscode": {
   "interpreter": {
    "hash": "136fcda9ac390a272dc9cef68eec8b6f3242d3e75188ce1875548512d05267be"
   }
  }
 },
 "nbformat": 4,
 "nbformat_minor": 2
}
