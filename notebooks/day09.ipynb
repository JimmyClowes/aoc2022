{
 "cells": [
  {
   "cell_type": "code",
   "execution_count": 1,
   "metadata": {},
   "outputs": [],
   "source": [
    "import git\n",
    "git_root = git.Repo(search_parent_directories=True).git.rev_parse(\"--show-toplevel\")"
   ]
  },
  {
   "cell_type": "code",
   "execution_count": 2,
   "metadata": {},
   "outputs": [],
   "source": [
    "with open(os.path.join(git_root, 'data', 'external', 'day09_01.txt')) as f:\n",
    "    lines = [l.strip() for l in f.readlines()]"
   ]
  },
  {
   "cell_type": "code",
   "execution_count": 3,
   "metadata": {},
   "outputs": [],
   "source": [
    "import numpy as np"
   ]
  },
  {
   "cell_type": "code",
   "execution_count": 4,
   "metadata": {},
   "outputs": [],
   "source": [
    "def line_to_steps(l):\n",
    "\n",
    "    direction_dict = {\"R\": np.array([1,0]),\n",
    "                        \"L\": np.array([-1,0]),\n",
    "                        \"U\": np.array([0,1]),\n",
    "                        \"D\": np.array([0,-1])}\n",
    "\n",
    "    direction = l.split(\" \")[0]\n",
    "\n",
    "    dir_vector = direction_dict[direction]\n",
    "\n",
    "    num_steps = int(l.split(\" \")[1])\n",
    "\n",
    "    steps = [dir_vector] * num_steps\n",
    "\n",
    "    return steps"
   ]
  },
  {
   "cell_type": "code",
   "execution_count": 5,
   "metadata": {},
   "outputs": [],
   "source": [
    "start = np.array([0, 0])\n",
    "h_pos = start\n",
    "t_pos = start\n",
    "all_t_pos = [tuple(t_pos)]\n",
    "\n",
    "for l in lines:\n",
    "\n",
    "    steps = line_to_steps(l)\n",
    "\n",
    "    for s in steps:\n",
    "\n",
    "        h_pos = h_pos + s\n",
    "        tail_offset = h_pos - t_pos\n",
    "\n",
    "        # offset in both dimensions is not greater than 1\n",
    "        if np.max(abs(tail_offset)) <= 1:\n",
    "        #   don't move\n",
    "            pass\n",
    "        # offset in at least 1 dimension is greater than 1\n",
    "        else:\n",
    "            move = np.sign(tail_offset)\n",
    "            t_pos = t_pos + move\n",
    "            all_t_pos = all_t_pos + [tuple(t_pos)]"
   ]
  },
  {
   "cell_type": "code",
   "execution_count": 6,
   "metadata": {},
   "outputs": [
    {
     "data": {
      "text/plain": [
       "6391"
      ]
     },
     "execution_count": 6,
     "metadata": {},
     "output_type": "execute_result"
    }
   ],
   "source": [
    "len(set(all_t_pos))"
   ]
  }
 ],
 "metadata": {
  "kernelspec": {
   "display_name": "Python 3.8.13 ('.venv-aoc2022': venv)",
   "language": "python",
   "name": "python3"
  },
  "language_info": {
   "codemirror_mode": {
    "name": "ipython",
    "version": 3
   },
   "file_extension": ".py",
   "mimetype": "text/x-python",
   "name": "python",
   "nbconvert_exporter": "python",
   "pygments_lexer": "ipython3",
   "version": "3.8.13"
  },
  "orig_nbformat": 4,
  "vscode": {
   "interpreter": {
    "hash": "136fcda9ac390a272dc9cef68eec8b6f3242d3e75188ce1875548512d05267be"
   }
  }
 },
 "nbformat": 4,
 "nbformat_minor": 2
}
